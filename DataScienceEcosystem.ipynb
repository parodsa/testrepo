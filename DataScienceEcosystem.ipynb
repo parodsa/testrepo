{
 "cells": [
  {
   "cell_type": "markdown",
   "id": "d9dc6812-3cb8-428a-8089-ee5ea219d636",
   "metadata": {},
   "source": [
    "# Data Science Tools and Ecosystem"
   ]
  },
  {
   "cell_type": "markdown",
   "id": "83786928-ce42-46a4-b2cb-b583250f2141",
   "metadata": {},
   "source": [
    "#### In this notebook, Data Science Tools and Ecosystem are summarized."
   ]
  },
  {
   "cell_type": "markdown",
   "id": "5815e285-8491-4bec-9752-4e1ca5409234",
   "metadata": {},
   "source": [
    "##### Objetives:\n",
    "* List popular languages for Data Science\n",
    "* List coommon libraries for Data Science\n",
    "* Examples of arithmetic expressions in Python"
   ]
  },
  {
   "cell_type": "markdown",
   "id": "cb0edc72-a7fc-4db8-9c99-e48d29e791fa",
   "metadata": {},
   "source": [
    "Some of the popular languages that Data Scientists use are:\n",
    "1. Python.\n",
    "2. R.\n",
    "3. SQL.\n",
    "4. Java."
   ]
  },
  {
   "cell_type": "markdown",
   "id": "99510763-29c1-4daf-aedc-7ec3f4ec1017",
   "metadata": {},
   "source": [
    "Some of the commonly used libraries used by Data Scientists include:\n",
    "* NumPy\n",
    "* Matplotlib\n",
    "* Pandas\n",
    "* PyTorch"
   ]
  },
  {
   "cell_type": "markdown",
   "id": "ee5de13c-3855-4f13-b7f1-12dede07adcd",
   "metadata": {},
   "source": [
    "|Data Science Tools|\n",
    "|:---:|\n",
    "|Jupyter Notebook|\n",
    "|RStudio|\n",
    "|TensorFlow|"
   ]
  },
  {
   "cell_type": "markdown",
   "id": "87059ee0-6e16-433b-a836-412659e0129a",
   "metadata": {},
   "source": [
    "### Below are a few examples of evaluating arithmetic expressions in Python."
   ]
  },
  {
   "cell_type": "markdown",
   "id": "b7d14c27-5494-42a4-880a-7626c81a8465",
   "metadata": {},
   "source": [
    "This a simple arithmetic expression to mutiply then add integers"
   ]
  },
  {
   "cell_type": "code",
   "execution_count": 3,
   "id": "55d395ab-992b-462c-a9e0-fd02f3261930",
   "metadata": {},
   "outputs": [
    {
     "data": {
      "text/plain": [
       "17"
      ]
     },
     "execution_count": 3,
     "metadata": {},
     "output_type": "execute_result"
    }
   ],
   "source": [
    "(3*4)+5"
   ]
  },
  {
   "cell_type": "markdown",
   "id": "92776686-7c0a-4c9d-824f-01b0c0ebd68e",
   "metadata": {},
   "source": [
    "This will convert 200 minutes to hours by diving by 60"
   ]
  },
  {
   "cell_type": "code",
   "execution_count": 4,
   "id": "24a13f9a-c336-4f91-ba13-4f8f3256a85c",
   "metadata": {},
   "outputs": [
    {
     "data": {
      "text/plain": [
       "3.3333333333333335"
      ]
     },
     "execution_count": 4,
     "metadata": {},
     "output_type": "execute_result"
    }
   ],
   "source": [
    "200/60"
   ]
  },
  {
   "cell_type": "markdown",
   "id": "9237bcb6-96f5-4a71-a50d-2d7a632789ea",
   "metadata": {},
   "source": [
    "## Author: \n",
    "Paula Rodríguez Sánchez"
   ]
  },
  {
   "cell_type": "code",
   "execution_count": null,
   "id": "209fc317-75d4-4113-95d5-ae5a40123383",
   "metadata": {},
   "outputs": [],
   "source": []
  }
 ],
 "metadata": {
  "kernelspec": {
   "display_name": "Python 3 (ipykernel)",
   "language": "python",
   "name": "python3"
  },
  "language_info": {
   "codemirror_mode": {
    "name": "ipython",
    "version": 3
   },
   "file_extension": ".py",
   "mimetype": "text/x-python",
   "name": "python",
   "nbconvert_exporter": "python",
   "pygments_lexer": "ipython3",
   "version": "3.9.18"
  }
 },
 "nbformat": 4,
 "nbformat_minor": 5
}
